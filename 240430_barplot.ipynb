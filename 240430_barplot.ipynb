{
 "cells": [
  {
   "cell_type": "markdown",
   "metadata": {},
   "source": [
    "# ライブラリ読み込み"
   ]
  },
  {
   "cell_type": "code",
   "execution_count": 2,
   "metadata": {},
   "outputs": [],
   "source": [
    "# 仮想環境_sklearn_base\n",
    "\n",
    "import numpy as np\n",
    "import pandas as pd\n",
    "from matplotlib import pyplot as plt\n",
    "import seaborn as sns\n",
    "import japanize_matplotlib\n",
    "%matplotlib inline"
   ]
  },
  {
   "cell_type": "markdown",
   "metadata": {},
   "source": [
    "# データ読み込み"
   ]
  },
  {
   "cell_type": "code",
   "execution_count": 15,
   "metadata": {},
   "outputs": [
    {
     "data": {
      "text/html": [
       "<div>\n",
       "<style scoped>\n",
       "    .dataframe tbody tr th:only-of-type {\n",
       "        vertical-align: middle;\n",
       "    }\n",
       "\n",
       "    .dataframe tbody tr th {\n",
       "        vertical-align: top;\n",
       "    }\n",
       "\n",
       "    .dataframe thead th {\n",
       "        text-align: right;\n",
       "    }\n",
       "</style>\n",
       "<table border=\"1\" class=\"dataframe\">\n",
       "  <thead>\n",
       "    <tr style=\"text-align: right;\">\n",
       "      <th></th>\n",
       "      <th>Lot</th>\n",
       "      <th>Pos</th>\n",
       "      <th>Hight</th>\n",
       "      <th>Weight</th>\n",
       "    </tr>\n",
       "  </thead>\n",
       "  <tbody>\n",
       "    <tr>\n",
       "      <th>0</th>\n",
       "      <td>A</td>\n",
       "      <td>a</td>\n",
       "      <td>100.5</td>\n",
       "      <td>30.2</td>\n",
       "    </tr>\n",
       "    <tr>\n",
       "      <th>1</th>\n",
       "      <td>A</td>\n",
       "      <td>a</td>\n",
       "      <td>100.1</td>\n",
       "      <td>28.5</td>\n",
       "    </tr>\n",
       "    <tr>\n",
       "      <th>2</th>\n",
       "      <td>A</td>\n",
       "      <td>b</td>\n",
       "      <td>99.4</td>\n",
       "      <td>29.3</td>\n",
       "    </tr>\n",
       "    <tr>\n",
       "      <th>3</th>\n",
       "      <td>A</td>\n",
       "      <td>b</td>\n",
       "      <td>98.5</td>\n",
       "      <td>27.4</td>\n",
       "    </tr>\n",
       "    <tr>\n",
       "      <th>4</th>\n",
       "      <td>B</td>\n",
       "      <td>a</td>\n",
       "      <td>101.2</td>\n",
       "      <td>31.1</td>\n",
       "    </tr>\n",
       "    <tr>\n",
       "      <th>5</th>\n",
       "      <td>B</td>\n",
       "      <td>a</td>\n",
       "      <td>99.3</td>\n",
       "      <td>29.9</td>\n",
       "    </tr>\n",
       "    <tr>\n",
       "      <th>6</th>\n",
       "      <td>B</td>\n",
       "      <td>b</td>\n",
       "      <td>99.1</td>\n",
       "      <td>33.3</td>\n",
       "    </tr>\n",
       "    <tr>\n",
       "      <th>7</th>\n",
       "      <td>B</td>\n",
       "      <td>b</td>\n",
       "      <td>101.5</td>\n",
       "      <td>30.5</td>\n",
       "    </tr>\n",
       "  </tbody>\n",
       "</table>\n",
       "</div>"
      ],
      "text/plain": [
       "  Lot Pos  Hight  Weight\n",
       "0   A   a  100.5    30.2\n",
       "1   A   a  100.1    28.5\n",
       "2   A   b   99.4    29.3\n",
       "3   A   b   98.5    27.4\n",
       "4   B   a  101.2    31.1\n",
       "5   B   a   99.3    29.9\n",
       "6   B   b   99.1    33.3\n",
       "7   B   b  101.5    30.5"
      ]
     },
     "execution_count": 15,
     "metadata": {},
     "output_type": "execute_result"
    }
   ],
   "source": [
    "# サンプルデータの作成\n",
    "# 既にデータがあれば、pd.read_csvで読み込んでよい\n",
    "data1 = dict(Lot=[\"A\", \"A\", \"A\", \"A\", \"B\", \"B\", \"B\", \"B\"],\n",
    "            Pos=[\"a\", \"a\", \"b\", \"b\", \"a\", \"a\", \"b\", \"b\"],\n",
    "            Hight=[100.5, 100.1, 99.4, 98.5, 101.2, 99.3, 99.1, 101.5],\n",
    "            Weight=[30.2, 28.5, 29.3, 27.4, 31.1, 29.9, 33.3, 30.5],\n",
    "            )\n",
    "df = pd.DataFrame(data = data1)\n",
    "\n",
    "# 基準線の設定\n",
    "H_A = 100.1\n",
    "H_B = 99.9\n",
    "W_A = 30.2\n",
    "W_B = 30.0\n",
    "\n",
    "df"
   ]
  },
  {
   "cell_type": "markdown",
   "metadata": {},
   "source": [
    "# グラフ作成"
   ]
  },
  {
   "cell_type": "code",
   "execution_count": 17,
   "metadata": {},
   "outputs": [
    {
     "data": {
      "text/plain": [
       "<matplotlib.collections.LineCollection at 0x19a25114a50>"
      ]
     },
     "execution_count": 17,
     "metadata": {},
     "output_type": "execute_result"
    },
    {
     "data": {
      "image/png": "[encoded data removed]",
      "text/plain": [
       "<Figure size 800x400 with 2 Axes>"
      ]
     },
     "metadata": {},
     "output_type": "display_data"
    }
   ],
   "source": [
    "# サブプロットの作成\n",
    "fig, axes = plt.subplots(1, 2, figsize=(8, 4), tight_layout=True)\n",
    "\n",
    "# 分類・タイトルの設定\n",
    "position = \"Pos\"\n",
    "title = \"a-bでの比較\"\n",
    "\n",
    "# グラフ描画\n",
    "sns.barplot(data=df, x=\"Lot\", y=\"Hight\", hue=position, ax=axes[0])\n",
    "axes[0].set_xlabel(\"ロット\")\n",
    "axes[0].set_ylabel(\"Hight\")\n",
    "axes[0].set_title(title)\n",
    "axes[0].set_ylim(95, 105)\n",
    "axes[0].hlines(H_A, -0.5, 0.5, color=\"red\")\n",
    "axes[0].hlines(H_B, 0.5, 1.5, color=\"red\")\n",
    "\n",
    "sns.barplot(data=df, x=\"Lot\", y=\"Weight\", hue=position, ax=axes[1])\n",
    "axes[1].set_xlabel(\"ロット\")\n",
    "axes[1].set_ylabel(\"Weight\")\n",
    "axes[1].set_title(title)\n",
    "axes[1].set_ylim(25, 35)\n",
    "axes[1].hlines(W_A, -0.5, 0.5, color=\"red\")\n",
    "axes[1].hlines(W_B, 0.5, 1.5, color=\"red\")"
   ]
  },
  {
   "cell_type": "code",
   "execution_count": null,
   "metadata": {},
   "outputs": [],
   "source": []
  }
 ],
 "metadata": {
  "kernelspec": {
   "display_name": "sklearn_base",
   "language": "python",
   "name": "python3"
  },
  "language_info": {
   "codemirror_mode": {
    "name": "ipython",
    "version": 3
   },
   "file_extension": ".py",
   "mimetype": "text/x-python",
   "name": "python",
   "nbconvert_exporter": "python",
   "pygments_lexer": "ipython3",
   "version": "0.0.0"
  }
 },
 "nbformat": 4,
 "nbformat_minor": 2
}
