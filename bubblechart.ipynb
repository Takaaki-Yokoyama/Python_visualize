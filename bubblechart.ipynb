{
 "cells": [
  {
   "cell_type": "markdown",
   "metadata": {},
   "source": [
    "# ライブラリのインポート"
   ]
  },
  {
   "cell_type": "code",
   "execution_count": 12,
   "metadata": {},
   "outputs": [],
   "source": [
    "# ライブラリのインポート\n",
    "import pandas as pd\n",
    "import matplotlib.pyplot as plt\n",
    "import numpy as np\n",
    "import matplotlib.cm as cm\n",
    "import japanize_matplotlib\n",
    "%matplotlib inline"
   ]
  },
  {
   "cell_type": "markdown",
   "metadata": {},
   "source": [
    "# テストデータの作成"
   ]
  },
  {
   "cell_type": "code",
   "execution_count": 23,
   "metadata": {},
   "outputs": [
    {
     "data": {
      "text/html": [
       "<div>\n",
       "<style scoped>\n",
       "    .dataframe tbody tr th:only-of-type {\n",
       "        vertical-align: middle;\n",
       "    }\n",
       "\n",
       "    .dataframe tbody tr th {\n",
       "        vertical-align: top;\n",
       "    }\n",
       "\n",
       "    .dataframe thead th {\n",
       "        text-align: right;\n",
       "    }\n",
       "</style>\n",
       "<table border=\"1\" class=\"dataframe\">\n",
       "  <thead>\n",
       "    <tr style=\"text-align: right;\">\n",
       "      <th></th>\n",
       "      <th>col1</th>\n",
       "      <th>col2</th>\n",
       "      <th>date</th>\n",
       "    </tr>\n",
       "  </thead>\n",
       "  <tbody>\n",
       "    <tr>\n",
       "      <th>0</th>\n",
       "      <td>A</td>\n",
       "      <td>X</td>\n",
       "      <td>2023-01-01</td>\n",
       "    </tr>\n",
       "    <tr>\n",
       "      <th>1</th>\n",
       "      <td>B</td>\n",
       "      <td>Y</td>\n",
       "      <td>2023-01-01</td>\n",
       "    </tr>\n",
       "    <tr>\n",
       "      <th>2</th>\n",
       "      <td>C</td>\n",
       "      <td>X</td>\n",
       "      <td>2023-01-01</td>\n",
       "    </tr>\n",
       "    <tr>\n",
       "      <th>3</th>\n",
       "      <td>A</td>\n",
       "      <td>Y</td>\n",
       "      <td>2023-01-01</td>\n",
       "    </tr>\n",
       "    <tr>\n",
       "      <th>4</th>\n",
       "      <td>C</td>\n",
       "      <td>Y</td>\n",
       "      <td>2023-01-02</td>\n",
       "    </tr>\n",
       "    <tr>\n",
       "      <th>5</th>\n",
       "      <td>B</td>\n",
       "      <td>X</td>\n",
       "      <td>2023-01-02</td>\n",
       "    </tr>\n",
       "    <tr>\n",
       "      <th>6</th>\n",
       "      <td>A</td>\n",
       "      <td>X</td>\n",
       "      <td>2023-01-02</td>\n",
       "    </tr>\n",
       "    <tr>\n",
       "      <th>7</th>\n",
       "      <td>B</td>\n",
       "      <td>Y</td>\n",
       "      <td>2023-01-02</td>\n",
       "    </tr>\n",
       "  </tbody>\n",
       "</table>\n",
       "</div>"
      ],
      "text/plain": [
       "  col1 col2       date\n",
       "0    A    X 2023-01-01\n",
       "1    B    Y 2023-01-01\n",
       "2    C    X 2023-01-01\n",
       "3    A    Y 2023-01-01\n",
       "4    C    Y 2023-01-02\n",
       "5    B    X 2023-01-02\n",
       "6    A    X 2023-01-02\n",
       "7    B    Y 2023-01-02"
      ]
     },
     "execution_count": 23,
     "metadata": {},
     "output_type": "execute_result"
    }
   ],
   "source": [
    "# テストデータの作成\n",
    "df = pd.DataFrame([[\"A\", \"X\"], [\"B\", \"Y\"], [\"C\", \"X\"], [\"A\", \"Y\"], [\"C\", \"Y\"], [\"B\", \"X\"], [\"A\", \"X\"], [\"B\", \"Y\"]], columns=[\"col1\", \"col2\"])\n",
    "\n",
    "# dateデータの追加\n",
    "import datetime\n",
    "date = [\"2023-1-1\", \"2023-1-1\", \"2023-1-1\", \"2023-1-1\", \"2023-1-2\", \"2023-1-2\", \"2023-1-2\", \"2023-1-2\"]\n",
    "date = pd.to_datetime(date)\n",
    "df[\"date\"] = date\n",
    "df"
   ]
  },
  {
   "cell_type": "markdown",
   "metadata": {},
   "source": [
    "# シンプルなバブルチャート"
   ]
  },
  {
   "cell_type": "code",
   "execution_count": 13,
   "metadata": {},
   "outputs": [
    {
     "data": {
      "image/png": "[encoded data removed]",
      "text/plain": [
       "<Figure size 640x480 with 1 Axes>"
      ]
     },
     "metadata": {},
     "output_type": "display_data"
    }
   ],
   "source": [
    "# groupbyしてカウント\n",
    "df_group = df.groupby([\"col1\", \"col2\"]).size().reset_index(name=\"Counts\")\n",
    "\n",
    "# col1とcol2の要素をリストに\n",
    "x = df_group[\"col1\"].tolist()\n",
    "y = df_group[\"col2\"].tolist()\n",
    "\n",
    "# \"Counts\"列の値を元に散布図のすべての点の大きさを表すリスト作成\n",
    "sizes = [size * 20 for size in df_group[\"Counts\"].tolist()]\n",
    "\n",
    "# \"Counts\"列からなる値を元に、散布図のすべての点のカウント数を示すリストを作成\n",
    "nums = [num for num in df_group[\"Counts\"].tolist()]\n",
    "\n",
    "# \"col2\"列からなる値を元に、カテゴリーのリストを作成\n",
    "categories = list(set(y))\n",
    "# 色マップを作成\n",
    "\n",
    "colors = cm.rainbow(np.linspace(0, 1, len(categories)))\n",
    "colors = {categories[i]: colors[i] for i in range(len(categories))}\n",
    "colors = [colors[item] for item in y]\n",
    "# 散布図を作成\n",
    "\n",
    "fig, ax = plt.subplots()\n",
    "ax.scatter(x, y, s=sizes, c=colors)\n",
    "\n",
    "# 散布図にカウント数を表示\n",
    "for i, txt in enumerate(nums):\n",
    "    ax.annotate(txt, (x[i], y[i]), textcoords=\"offset points\", xytext=(1,1), ha='left', va='bottom')\n",
    "\n",
    "# X軸項目を60°傾ける\n",
    "plt.xticks(rotation=60)\n",
    "\n",
    "# 図を表示\n",
    "plt.show()"
   ]
  },
  {
   "cell_type": "markdown",
   "metadata": {},
   "source": [
    "# 年月を横軸としたバブルチャート"
   ]
  },
  {
   "cell_type": "code",
   "execution_count": 28,
   "metadata": {},
   "outputs": [
    {
     "data": {
      "image/png": "[encoded data removed]",
      "text/plain": [
       "<Figure size 640x480 with 1 Axes>"
      ]
     },
     "metadata": {},
     "output_type": "display_data"
    }
   ],
   "source": [
    "# groupbyしてカウント\n",
    "df_group = df.groupby([pd.Grouper(key=\"date\", freq=\"D\"), \"col1\"]).size().reset_index(name=\"Counts\")\n",
    "\n",
    "# dateとcol1の要素をリストに\n",
    "x = df_group[\"date\"].tolist()\n",
    "y = df_group[\"col1\"].tolist()\n",
    "\n",
    "# \"Counts\"列の値を元に散布図のすべての点の大きさを表すリスト作成\n",
    "sizes = [size * 20 for size in df_group[\"Counts\"].tolist()]\n",
    "\n",
    "# \"Counts\"列からなる値を元に、散布図のすべての点のカウント数を示すリストを作成\n",
    "nums = [num for num in df_group[\"Counts\"].tolist()]\n",
    "\n",
    "# \"col2\"列からなる値を元に、カテゴリーのリストを作成\n",
    "categories = list(set(y))\n",
    "# 色マップを作成\n",
    "\n",
    "colors = cm.rainbow(np.linspace(0, 1, len(categories)))\n",
    "colors = {categories[i]: colors[i] for i in range(len(categories))}\n",
    "colors = [colors[item] for item in y]\n",
    "# 散布図を作成\n",
    "\n",
    "fig, ax = plt.subplots()\n",
    "ax.scatter(x, y, s=sizes, c=colors)\n",
    "\n",
    "# 散布図にカウント数を表示\n",
    "for i, txt in enumerate(nums):\n",
    "    ax.annotate(txt, (x[i], y[i]), textcoords=\"offset points\", xytext=(1,1), ha='left', va='bottom')\n",
    "\n",
    "# X軸項目を60°傾ける\n",
    "plt.xticks(rotation=60)\n",
    "\n",
    "# 図を表示\n",
    "plt.show()"
   ]
  }
 ],
 "metadata": {
  "kernelspec": {
   "display_name": "sklearn_base",
   "language": "python",
   "name": "python3"
  },
  "language_info": {
   "codemirror_mode": {
    "name": "ipython",
    "version": 3
   },
   "file_extension": ".py",
   "mimetype": "text/x-python",
   "name": "python",
   "nbconvert_exporter": "python",
   "pygments_lexer": "ipython3",
   "version": "3.11.5"
  }
 },
 "nbformat": 4,
 "nbformat_minor": 2
}
